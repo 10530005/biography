{
 "cells": [
  {
   "cell_type": "code",
   "execution_count": null,
   "metadata": {},
   "outputs": [
    {
     "name": "stdout",
     "output_type": "stream",
     "text": [
      "Trivial Server launched on socket: ('127.0.0.1', 64604)\n"
     ]
    }
   ],
   "source": [
    "import socket\n",
    "\n",
    "def test_socket_modes():\n",
    "    s = socket.socket(socket.AF_INET, socket.SOCK_STREAM)\n",
    "    s.setblocking(0) #0 = non-blocking mode, 1 = blocking mode and default value\n",
    "    s.settimeout(0.5)\n",
    "    s.bind((\"127.0.0.1\", 0))\n",
    "    \n",
    "    socket_address = s.getsockname()\n",
    "    print (\"Trivial Server launched on socket: %s\" %str(socket_address))\n",
    "    while(1):\n",
    "        s.listen(1)\n",
    "  \n",
    "if __name__ == '__main__':\n",
    "    test_socket_modes()"
   ]
  },
  {
   "cell_type": "code",
   "execution_count": null,
   "metadata": {},
   "outputs": [],
   "source": []
  }
 ],
 "metadata": {
  "kernelspec": {
   "display_name": "Python 3",
   "language": "python",
   "name": "python3"
  },
  "language_info": {
   "codemirror_mode": {
    "name": "ipython",
    "version": 3
   },
   "file_extension": ".py",
   "mimetype": "text/x-python",
   "name": "python",
   "nbconvert_exporter": "python",
   "pygments_lexer": "ipython3",
   "version": "3.6.5"
  }
 },
 "nbformat": 4,
 "nbformat_minor": 2
}
