{
 "cells": [
  {
   "cell_type": "code",
   "execution_count": 1,
   "metadata": {},
   "outputs": [
    {
     "name": "stdout",
     "output_type": "stream",
     "text": [
      "Server loop running on thread: Thread-6\n",
      "Client received: b\"Thread-7: b'Hello from client 1'\"\n",
      "Client received: b\"Thread-8: b'Hello from client 2'\"\n",
      "Client received: b\"Thread-9: b'Hello from client 3'\"\n"
     ]
    }
   ],
   "source": [
    "import os\n",
    "import socket\n",
    "import threading\n",
    "import socketserver\n",
    "\n",
    "SERVER_HOST = 'localhost'\n",
    "SERVER_PORT = 0 # tells the kernel to pickup a port dynamically\n",
    "BUF_SIZE = 1024\n",
    "\n",
    "\n",
    "def client(ip, port, message):\n",
    "    \"\"\" A client to test threading mixin server\"\"\"    \n",
    "    # Connect to the server\n",
    "    sock = socket.socket(socket.AF_INET, socket.SOCK_STREAM)\n",
    "    sock.connect((ip, port))\n",
    "    try:\n",
    "        sock.sendall(bytes(message, 'utf-8'))\n",
    "        response = sock.recv(BUF_SIZE)\n",
    "        print (\"Client received: %s\" %response)\n",
    "    finally:\n",
    "        sock.close()\n",
    "\n",
    "\n",
    "class ThreadedTCPRequestHandler(socketserver.BaseRequestHandler):\n",
    "    \"\"\" An example of threaded TCP request handler \"\"\"\n",
    "    def handle(self):\n",
    "        data = self.request.recv(1024)\n",
    "        cur_thread = threading.current_thread()\n",
    "        response = \"%s: %s\" %(cur_thread.name, data)\n",
    "        self.request.sendall(bytes(response, 'utf-8'))\n",
    "\n",
    "class ThreadedTCPServer(socketserver.ThreadingMixIn, socketserver.TCPServer):\n",
    "    \"\"\"Nothing to add here, inherited everything necessary from parents\"\"\"\n",
    "    pass\n",
    "\n",
    "\n",
    "if __name__ == \"__main__\":\n",
    "    # Run server\n",
    "    server = ThreadedTCPServer((SERVER_HOST, SERVER_PORT), ThreadedTCPRequestHandler)\n",
    "    ip, port = server.server_address # retrieve ip address\n",
    "\n",
    "    # Start a thread with the server -- one  thread per request\n",
    "    server_thread = threading.Thread(target=server.serve_forever)\n",
    "    # Exit the server thread when the main thread exits\n",
    "    server_thread.daemon = True\n",
    "    server_thread.start()\n",
    "    print (\"Server loop running on thread: %s\"  %server_thread.name)\n",
    "    \n",
    "    # Run clients\n",
    "    client(ip, port, \"Hello from client 1\")\n",
    "    client(ip, port, \"Hello from client 2\")\n",
    "    client(ip, port, \"Hello from client 3\")\n",
    "    \n",
    "    # Server cleanup\n",
    "    server.shutdown()\n"
   ]
  },
  {
   "cell_type": "code",
   "execution_count": null,
   "metadata": {},
   "outputs": [],
   "source": []
  }
 ],
 "metadata": {
  "kernelspec": {
   "display_name": "Python 3",
   "language": "python",
   "name": "python3"
  },
  "language_info": {
   "codemirror_mode": {
    "name": "ipython",
    "version": 3
   },
   "file_extension": ".py",
   "mimetype": "text/x-python",
   "name": "python",
   "nbconvert_exporter": "python",
   "pygments_lexer": "ipython3",
   "version": "3.6.5"
  }
 },
 "nbformat": 4,
 "nbformat_minor": 2
}
