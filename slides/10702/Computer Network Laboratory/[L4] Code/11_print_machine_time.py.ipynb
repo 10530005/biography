{
 "cells": [
  {
   "cell_type": "code",
   "execution_count": null,
   "metadata": {},
   "outputs": [],
   "source": [
    "import ntplib\n",
    "from time import ctime\n",
    "\n",
    "\n",
    "def print_time():\n",
    "    ntp_client = ntplib.NTPClient()\n",
    "    response = ntp_client.request('pool.ntp.org')\n",
    "    print (ctime(response.tx_time))\n",
    "\n",
    "\n",
    "if __name__ == '__main__':\n",
    "    print_time()"
   ]
  }
 ],
 "metadata": {
  "kernelspec": {
   "display_name": "Python 3",
   "language": "python",
   "name": "python3"
  },
  "language_info": {
   "codemirror_mode": {
    "name": "ipython",
    "version": 3
   },
   "file_extension": ".py",
   "mimetype": "text/x-python",
   "name": "python",
   "nbconvert_exporter": "python",
   "pygments_lexer": "ipython3",
   "version": "3.6.5"
  }
 },
 "nbformat": 4,
 "nbformat_minor": 2
}
