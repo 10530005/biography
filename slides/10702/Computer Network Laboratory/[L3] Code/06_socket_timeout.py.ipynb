{
 "cells": [
  {
   "cell_type": "code",
   "execution_count": 1,
   "metadata": {},
   "outputs": [
    {
     "name": "stdout",
     "output_type": "stream",
     "text": [
      "Default socket timeout: None\n",
      "Current socket timeout: 100.0\n"
     ]
    }
   ],
   "source": [
    "import socket\n",
    "\n",
    "def test_socket_timeout():\n",
    "    s = socket.socket(socket.AF_INET, socket.SOCK_STREAM)\n",
    "    print (\"Default socket timeout: %s\" %s.gettimeout())\n",
    "    s.settimeout(100)\n",
    "    print (\"Current socket timeout: %s\" %s.gettimeout())    \n",
    "    \n",
    "if __name__ == '__main__':\n",
    "    test_socket_timeout()"
   ]
  },
  {
   "cell_type": "code",
   "execution_count": null,
   "metadata": {},
   "outputs": [],
   "source": []
  }
 ],
 "metadata": {
  "kernelspec": {
   "display_name": "Python 3",
   "language": "python",
   "name": "python3"
  },
  "language_info": {
   "codemirror_mode": {
    "name": "ipython",
    "version": 3
   },
   "file_extension": ".py",
   "mimetype": "text/x-python",
   "name": "python",
   "nbconvert_exporter": "python",
   "pygments_lexer": "ipython3",
   "version": "3.6.5"
  }
 },
 "nbformat": 4,
 "nbformat_minor": 2
}
