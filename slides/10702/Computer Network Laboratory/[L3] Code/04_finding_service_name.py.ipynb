{
 "cells": [
  {
   "cell_type": "code",
   "execution_count": 1,
   "metadata": {},
   "outputs": [
    {
     "name": "stdout",
     "output_type": "stream",
     "text": [
      "Port: 80 => service name: http\n",
      "Port: 25 => service name: smtp\n",
      "Port: 53 => service name: domain\n"
     ]
    }
   ],
   "source": [
    "import socket\n",
    "\n",
    "def find_service_name():\n",
    "    protocolname = 'tcp'\n",
    "    for port in [80, 25]:\n",
    "        print (\"Port: %s => service name: %s\" %(port, socket.getservbyport(port, protocolname)))\n",
    "    \n",
    "    print (\"Port: %s => service name: %s\" %(53, socket.getservbyport(53, 'udp')))\n",
    "    \n",
    "if __name__ == '__main__':\n",
    "    find_service_name()"
   ]
  },
  {
   "cell_type": "code",
   "execution_count": null,
   "metadata": {},
   "outputs": [],
   "source": []
  }
 ],
 "metadata": {
  "kernelspec": {
   "display_name": "Python 3",
   "language": "python",
   "name": "python3"
  },
  "language_info": {
   "codemirror_mode": {
    "name": "ipython",
    "version": 3
   },
   "file_extension": ".py",
   "mimetype": "text/x-python",
   "name": "python",
   "nbconvert_exporter": "python",
   "pygments_lexer": "ipython3",
   "version": "3.6.5"
  }
 },
 "nbformat": 4,
 "nbformat_minor": 2
}
