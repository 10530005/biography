{
 "cells": [
  {
   "cell_type": "code",
   "execution_count": 1,
   "metadata": {},
   "outputs": [
    {
     "name": "stdout",
     "output_type": "stream",
     "text": [
      "Original: 1234 => Long  host byte order: 3523477504, Network byte order: 3523477504\n",
      "Original: 1234 => Short  host byte order: 53764, Network byte order: 53764\n"
     ]
    }
   ],
   "source": [
    "import socket\n",
    "\n",
    "def convert_integer():\n",
    "    data = 1234\n",
    "    # 32-bit\n",
    "    print (\"Original: %s => Long  host byte order: %s, Network byte order: %s\" %(data, socket.ntohl(data), socket.htonl(data)))\n",
    "    # 16-bit\n",
    "    print (\"Original: %s => Short  host byte order: %s, Network byte order: %s\" %(data, socket.ntohs(data), socket.htons(data)))\n",
    "\n",
    "    \n",
    "if __name__ == '__main__':\n",
    "    convert_integer()"
   ]
  },
  {
   "cell_type": "code",
   "execution_count": null,
   "metadata": {},
   "outputs": [],
   "source": []
  }
 ],
 "metadata": {
  "kernelspec": {
   "display_name": "Python 3",
   "language": "python",
   "name": "python3"
  },
  "language_info": {
   "codemirror_mode": {
    "name": "ipython",
    "version": 3
   },
   "file_extension": ".py",
   "mimetype": "text/x-python",
   "name": "python",
   "nbconvert_exporter": "python",
   "pygments_lexer": "ipython3",
   "version": "3.6.5"
  }
 },
 "nbformat": 4,
 "nbformat_minor": 2
}
