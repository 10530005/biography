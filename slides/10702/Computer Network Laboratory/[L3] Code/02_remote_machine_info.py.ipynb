{
 "cells": [
  {
   "cell_type": "code",
   "execution_count": 1,
   "metadata": {},
   "outputs": [
    {
     "name": "stdout",
     "output_type": "stream",
     "text": [
      "IP address of www.python.org: 151.101.0.223\n"
     ]
    }
   ],
   "source": [
    "import socket\n",
    "\n",
    "def get_remote_machine_info():\n",
    "    remote_host = 'www.python.org'\n",
    "    try:\n",
    "        print (\"IP address of %s: %s\" %(remote_host, socket.gethostbyname(remote_host)))\n",
    "    except socket.error as err_msg:\n",
    "        print (\"%s: %s\" %(remote_host, err_msg))\n",
    "    \n",
    "if __name__ == '__main__':\n",
    "    get_remote_machine_info()"
   ]
  },
  {
   "cell_type": "code",
   "execution_count": null,
   "metadata": {},
   "outputs": [],
   "source": []
  }
 ],
 "metadata": {
  "kernelspec": {
   "display_name": "Python 3",
   "language": "python",
   "name": "python3"
  },
  "language_info": {
   "codemirror_mode": {
    "name": "ipython",
    "version": 3
   },
   "file_extension": ".py",
   "mimetype": "text/x-python",
   "name": "python",
   "nbconvert_exporter": "python",
   "pygments_lexer": "ipython3",
   "version": "3.6.5"
  }
 },
 "nbformat": 4,
 "nbformat_minor": 2
}
