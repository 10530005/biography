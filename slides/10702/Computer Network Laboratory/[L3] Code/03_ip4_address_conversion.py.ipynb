{
 "cells": [
  {
   "cell_type": "code",
   "execution_count": 1,
   "metadata": {},
   "outputs": [
    {
     "name": "stdout",
     "output_type": "stream",
     "text": [
      "IP Address: 127.0.0.1 => Packed: b'7f000001', Unpacked: 127.0.0.1\n",
      "IP Address: 192.168.0.1 => Packed: b'c0a80001', Unpacked: 192.168.0.1\n"
     ]
    }
   ],
   "source": [
    "import socket\n",
    "from binascii import hexlify\n",
    "\n",
    "\n",
    "def convert_ip4_address():\n",
    "    for ip_addr in ['127.0.0.1', '192.168.0.1']:\n",
    "        packed_ip_addr = socket.inet_aton(ip_addr)\n",
    "        unpacked_ip_addr = socket.inet_ntoa(packed_ip_addr)\n",
    "        print (\"IP Address: %s => Packed: %s, Unpacked: %s\" %(ip_addr, hexlify(packed_ip_addr), unpacked_ip_addr))\n",
    "   \n",
    "if __name__ == '__main__':\n",
    "    convert_ip4_address()"
   ]
  },
  {
   "cell_type": "code",
   "execution_count": null,
   "metadata": {},
   "outputs": [],
   "source": []
  }
 ],
 "metadata": {
  "kernelspec": {
   "display_name": "Python 3",
   "language": "python",
   "name": "python3"
  },
  "language_info": {
   "codemirror_mode": {
    "name": "ipython",
    "version": 3
   },
   "file_extension": ".py",
   "mimetype": "text/x-python",
   "name": "python",
   "nbconvert_exporter": "python",
   "pygments_lexer": "ipython3",
   "version": "3.6.5"
  }
 },
 "nbformat": 4,
 "nbformat_minor": 2
}
