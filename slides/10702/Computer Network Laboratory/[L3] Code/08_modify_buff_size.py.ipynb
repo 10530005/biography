{
 "cells": [
  {
   "cell_type": "code",
   "execution_count": 1,
   "metadata": {},
   "outputs": [
    {
     "name": "stdout",
     "output_type": "stream",
     "text": [
      "Buffer size [Before]:65536\n",
      "Buffer size [After]:4096\n"
     ]
    }
   ],
   "source": [
    "import socket\n",
    "\n",
    "SEND_BUF_SIZE = 4096\n",
    "RECV_BUF_SIZE = 4096\n",
    "\n",
    "def modify_buff_size():\n",
    "    sock = socket.socket( socket.AF_INET, socket.SOCK_STREAM )\n",
    "    \n",
    "    # Get the size of the socket's send buffer\n",
    "    bufsize = sock.getsockopt(socket.SOL_SOCKET, socket.SO_SNDBUF)\n",
    "    print (\"Buffer size [Before]:%d\" %bufsize)\n",
    "    \n",
    "    sock.setsockopt(socket.SOL_TCP, socket.TCP_NODELAY, 1)\n",
    "    sock.setsockopt(\n",
    "            socket.SOL_SOCKET,\n",
    "            socket.SO_SNDBUF,\n",
    "            SEND_BUF_SIZE)\n",
    "    sock.setsockopt(\n",
    "            socket.SOL_SOCKET,\n",
    "            socket.SO_RCVBUF,\n",
    "            RECV_BUF_SIZE)\n",
    "    bufsize = sock.getsockopt(socket.SOL_SOCKET, socket.SO_SNDBUF)\n",
    "    print (\"Buffer size [After]:%d\" %bufsize)\n",
    "\n",
    "if __name__ == '__main__':\n",
    "    modify_buff_size()"
   ]
  },
  {
   "cell_type": "code",
   "execution_count": null,
   "metadata": {},
   "outputs": [],
   "source": []
  }
 ],
 "metadata": {
  "kernelspec": {
   "display_name": "Python 3",
   "language": "python",
   "name": "python3"
  },
  "language_info": {
   "codemirror_mode": {
    "name": "ipython",
    "version": 3
   },
   "file_extension": ".py",
   "mimetype": "text/x-python",
   "name": "python",
   "nbconvert_exporter": "python",
   "pygments_lexer": "ipython3",
   "version": "3.6.5"
  }
 },
 "nbformat": 4,
 "nbformat_minor": 2
}
