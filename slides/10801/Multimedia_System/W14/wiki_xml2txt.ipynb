{
 "cells": [
  {
   "cell_type": "code",
   "execution_count": null,
   "metadata": {},
   "outputs": [],
   "source": [
    "# -*- coding: utf-8 -*-\n",
    "import logging\n",
    "import sys\n",
    "import warnings\n",
    "warnings.filterwarnings(action ='ignore', category = UserWarning, module = 'gensim')\n",
    "from gensim.corpora import WikiCorpus\n",
    "\n",
    "# 將 wiki 資料集載下後進行 xml convert to txt \n",
    "class Wiki_to_txt(object):\n",
    "\n",
    "\tdef __init__(self):\n",
    "\t\t# 用默認 Formatter 為日誌系統建立一個 StreamHandler ，設置基礎配置並加到 root logger 中\n",
    "\t\tlogging.basicConfig(format = '%(asctime)s : %(levelname)s : %(message)s', level = logging.INFO)\n",
    "\n",
    "\t# 使用方法 https://radimrehurek.com/gensim/corpora/wikicorpus.html\n",
    "\tdef set_wiki_to_txt(self, wiki_data_path = None):\n",
    "\t\tif wiki_data_path == None:\n",
    "\t\t\t# 系統下參數\n",
    "\t\t\tif len(sys.argv) != 2:\n",
    "\t\t\t\tprint(\"Please Usage: python3 \" + sys.argv[0] + \" wiki_data_path\")\n",
    "\t\t\t\texit()\n",
    "\t\t\telse:\n",
    "\t\t\t\twiki_corpus = WikiCorpus(sys.argv[1], dictionary = {})\n",
    "\t\telse:\n",
    "\t\t\twiki_corpus = WikiCorpus(wiki_data_path, dictionary = {})\n",
    "\t\t# wiki.xml convert to wiki.txt\n",
    "\t\twith open(\"wiki_text.txt\", 'w', encoding = 'utf-8') as output:\n",
    "\t\t\ttext_count = 0\n",
    "\t\t\tfor text in wiki_corpus.get_texts():\n",
    "\t\t\t\t# save use string(gensim)\n",
    "\t\t\t\toutput.write(' '.join(text) + '\\n')\n",
    "\t\t\t\ttext_count += 1\n",
    "\t\t\t\tif text_count % 10000 == 0:\n",
    "\t\t\t\t\tlogging.info(\"目前已處理 %d 篇文章\" % text_count)\n",
    "\t\t\tprint(\"轉檔完畢!\")\n",
    "\t\t\t\n",
    "if __name__ == \"__main__\":\n",
    "\twiki_to_txt = Wiki_to_txt()\n",
    "\t# 將 wiki xml 轉換成 wiki txt\n",
    "\twiki_to_txt.set_wiki_to_txt()\n"
   ]
  }
 ],
 "metadata": {
  "kernelspec": {
   "display_name": "Python 3",
   "language": "python",
   "name": "python3"
  },
  "language_info": {
   "codemirror_mode": {
    "name": "ipython",
    "version": 3
   },
   "file_extension": ".py",
   "mimetype": "text/x-python",
   "name": "python",
   "nbconvert_exporter": "python",
   "pygments_lexer": "ipython3",
   "version": "3.5.2"
  }
 },
 "nbformat": 4,
 "nbformat_minor": 2
}
