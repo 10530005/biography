{
  "nbformat": 4,
  "nbformat_minor": 0,
  "metadata": {
    "colab": {
      "name": "CatsDogs.ipynb",
      "provenance": []
    },
    "kernelspec": {
      "name": "python3",
      "display_name": "Python 3"
    }
  },
  "cells": [
    {
      "cell_type": "code",
      "metadata": {
        "id": "JpXyEmIN5vH3",
        "colab_type": "code",
        "colab": {
          "base_uri": "https://localhost:8080/",
          "height": 204
        },
        "outputId": "f0c869b2-b3c0-4a78-a3dc-21902ac2080f"
      },
      "source": [
        "!wget --no-check-certificate \\\n",
        "    https://storage.googleapis.com/mledu-datasets/cats_and_dogs_filtered.zip \\\n",
        "    -O /tmp/cats_and_dogs_filtered.zip"
      ],
      "execution_count": 90,
      "outputs": [
        {
          "output_type": "stream",
          "text": [
            "--2019-12-19 17:18:48--  https://storage.googleapis.com/mledu-datasets/cats_and_dogs_filtered.zip\n",
            "Resolving storage.googleapis.com (storage.googleapis.com)... 108.177.119.128, 2a00:1450:4013:c07::80\n",
            "Connecting to storage.googleapis.com (storage.googleapis.com)|108.177.119.128|:443... connected.\n",
            "HTTP request sent, awaiting response... 200 OK\n",
            "Length: 68606236 (65M) [application/zip]\n",
            "Saving to: ‘/tmp/cats_and_dogs_filtered.zip’\n",
            "\n",
            "/tmp/cats_and_dogs_ 100%[===================>]  65.43M  40.0MB/s    in 1.6s    \n",
            "\n",
            "2019-12-19 17:18:50 (40.0 MB/s) - ‘/tmp/cats_and_dogs_filtered.zip’ saved [68606236/68606236]\n",
            "\n"
          ],
          "name": "stdout"
        }
      ]
    },
    {
      "cell_type": "code",
      "metadata": {
        "id": "1qLvyVKN51Pm",
        "colab_type": "code",
        "colab": {}
      },
      "source": [
        "import os\n",
        "import zipfile\n",
        "import cv2 # pip3 install opencv-python\n",
        "import numpy as np \n",
        "from random import shuffle # 隨機資料庫 \n",
        "from tqdm import tqdm # 輸出進度條\n",
        "import matplotlib.pyplot as plt # 繪圖\n",
        "\n",
        "local_zip = '/tmp/cats_and_dogs_filtered.zip'\n",
        "zip_ref = zipfile.ZipFile(local_zip, 'r')\n",
        "zip_ref.extractall('/tmp')\n",
        "zip_ref.close()"
      ],
      "execution_count": 0,
      "outputs": []
    },
    {
      "cell_type": "code",
      "metadata": {
        "id": "Z7NuCqG07iGp",
        "colab_type": "code",
        "colab": {}
      },
      "source": [
        "img_size = 50\n",
        "lr = 1e-3"
      ],
      "execution_count": 0,
      "outputs": []
    },
    {
      "cell_type": "code",
      "metadata": {
        "id": "bn6qEIht56xD",
        "colab_type": "code",
        "colab": {}
      },
      "source": [
        "base_dir = '/tmp/cats_and_dogs_filtered'\n",
        "train_dir = os.path.join(base_dir, 'train')\n",
        "validation_dir = os.path.join(base_dir, 'validation')\n",
        "\n",
        "# Directory with our training cat pictures\n",
        "train_cats_dir = os.path.join(train_dir, 'cats')\n",
        "\n",
        "# Directory with our training dog pictures\n",
        "train_dogs_dir = os.path.join(train_dir, 'dogs')\n",
        "\n",
        "# Directory with our validation cat pictures\n",
        "validation_cats_dir = os.path.join(validation_dir, 'cats')\n",
        "\n",
        "# Directory with our validation dog pictures\n",
        "validation_dogs_dir = os.path.join(validation_dir, 'dogs')"
      ],
      "execution_count": 0,
      "outputs": []
    },
    {
      "cell_type": "code",
      "metadata": {
        "id": "qcS6M9CO-2r_",
        "colab_type": "code",
        "colab": {
          "base_uri": "https://localhost:8080/",
          "height": 34
        },
        "outputId": "93553c60-ca8a-4e96-ed9f-2fadd78cdc8a"
      },
      "source": [
        "print(train_cats_dir)"
      ],
      "execution_count": 94,
      "outputs": [
        {
          "output_type": "stream",
          "text": [
            "/tmp/cats_and_dogs_filtered/train/cats\n"
          ],
          "name": "stdout"
        }
      ]
    },
    {
      "cell_type": "code",
      "metadata": {
        "id": "AuUF3HrC59Z8",
        "colab_type": "code",
        "colab": {}
      },
      "source": [
        "def label_img(img):\n",
        "    word_label = img.split('.')[-3]\n",
        "    if word_label == 'cat': return [1,0]\n",
        "    elif word_label == 'dog': return [0,1]"
      ],
      "execution_count": 0,
      "outputs": []
    },
    {
      "cell_type": "code",
      "metadata": {
        "id": "jN6YNYCP7eHR",
        "colab_type": "code",
        "colab": {}
      },
      "source": [
        "def create_train_data():\n",
        "    training_data = []\n",
        "    for img in tqdm(os.listdir(train_cats_dir)):\n",
        "        if (not img.endswith('.jpg')):\n",
        "            continue\n",
        "        label = label_img(img)\n",
        "        path = os.path.join(train_cats_dir, img)\n",
        "        img = cv2.imread(path, cv2.IMREAD_GRAYSCALE)  # 讀取圖片並轉為灰階\n",
        "        img = cv2.resize(img, (img_size, img_size) )  # 將圖片轉為統一的大小\n",
        "        training_data.append([np.array(img), np.array(label)])\n",
        "    for img in tqdm(os.listdir(train_dogs_dir)):\n",
        "        if (not img.endswith('.jpg')):\n",
        "            continue\n",
        "        label = label_img(img)\n",
        "        path = os.path.join(train_dogs_dir, img)\n",
        "        img = cv2.imread(path, cv2.IMREAD_GRAYSCALE)  # 讀取圖片並轉為灰階\n",
        "        img = cv2.resize(img, (img_size, img_size) )  # 將圖片轉為統一的大小\n",
        "        training_data.append([np.array(img), np.array(label)])\n",
        "    shuffle(training_data)\n",
        "    return training_data"
      ],
      "execution_count": 0,
      "outputs": []
    },
    {
      "cell_type": "code",
      "metadata": {
        "id": "D40p2LB87nQ4",
        "colab_type": "code",
        "colab": {
          "base_uri": "https://localhost:8080/",
          "height": 51
        },
        "outputId": "614e5179-e562-47a2-fb91-1aca7178026d"
      },
      "source": [
        "train_data = create_train_data()"
      ],
      "execution_count": 97,
      "outputs": [
        {
          "output_type": "stream",
          "text": [
            "100%|██████████| 1000/1000 [00:01<00:00, 921.02it/s]\n",
            "100%|██████████| 1000/1000 [00:01<00:00, 852.54it/s]\n"
          ],
          "name": "stderr"
        }
      ]
    },
    {
      "cell_type": "code",
      "metadata": {
        "id": "3Zj5-TCNAGZ7",
        "colab_type": "code",
        "colab": {}
      },
      "source": [
        "def process_test_data():\n",
        "    testing_data = []\n",
        "    for img in tqdm(os.listdir(validation_cats_dir)):\n",
        "        if (not img.endswith('.jpg')):\n",
        "            continue\n",
        "        path = os.path.join(validation_cats_dir,img)\n",
        "        img_num = img.split('.')[0]\n",
        "        img = cv2.imread(path,cv2.IMREAD_GRAYSCALE)\n",
        "        img = cv2.resize(img, (img_size, img_size))\n",
        "        testing_data.append([np.array(img), img_num])\n",
        "    for img in tqdm(os.listdir(validation_dogs_dir)):\n",
        "        if (not img.endswith('.jpg')):\n",
        "            continue\n",
        "        path = os.path.join(validation_dogs_dir,img)\n",
        "        img_num = img.split('.')[0]\n",
        "        img = cv2.imread(path,cv2.IMREAD_GRAYSCALE)\n",
        "        img = cv2.resize(img, (img_size, img_size))\n",
        "        testing_data.append([np.array(img), img_num])   \n",
        "    shuffle(testing_data)\n",
        "    return testing_data"
      ],
      "execution_count": 0,
      "outputs": []
    },
    {
      "cell_type": "code",
      "metadata": {
        "id": "b3QZx322AJCa",
        "colab_type": "code",
        "colab": {
          "base_uri": "https://localhost:8080/",
          "height": 102
        },
        "outputId": "d41bc260-5776-43aa-bfea-1696ee9dc003"
      },
      "source": [
        "!pip install tflearn\n",
        "import tflearn # 需要安装tensorflow，並安裝 tflearn\n",
        "from tflearn.layers.conv import conv_2d, max_pool_2d  # 2維 CNN 以及最大池化\n",
        "from tflearn.layers.core import input_data, dropout, fully_connected # 输入層，dropout，全連接層\n",
        "from tflearn.layers.estimator import regression # cross entropy層"
      ],
      "execution_count": 99,
      "outputs": [
        {
          "output_type": "stream",
          "text": [
            "Requirement already satisfied: tflearn in /usr/local/lib/python3.6/dist-packages (0.3.2)\n",
            "Requirement already satisfied: six in /usr/local/lib/python3.6/dist-packages (from tflearn) (1.12.0)\n",
            "Requirement already satisfied: numpy in /usr/local/lib/python3.6/dist-packages (from tflearn) (1.17.4)\n",
            "Requirement already satisfied: Pillow in /usr/local/lib/python3.6/dist-packages (from tflearn) (4.3.0)\n",
            "Requirement already satisfied: olefile in /usr/local/lib/python3.6/dist-packages (from Pillow->tflearn) (0.46)\n"
          ],
          "name": "stdout"
        }
      ]
    },
    {
      "cell_type": "code",
      "metadata": {
        "id": "Hs0BZeTbAcyk",
        "colab_type": "code",
        "colab": {}
      },
      "source": [
        "import tensorflow as tf\n",
        "tf.reset_default_graph()"
      ],
      "execution_count": 0,
      "outputs": []
    },
    {
      "cell_type": "code",
      "metadata": {
        "id": "GtJav8VuAfIX",
        "colab_type": "code",
        "colab": {}
      },
      "source": [
        "convnet = input_data(shape = [None, img_size, img_size, 1], name = 'input')\n",
        "\n",
        "convnet = conv_2d(convnet, 64, 5, activation='linear') # the number of convolutional filters, filter_size\n",
        "convnet = max_pool_2d(convnet, 5)\n",
        "\n",
        "convnet = conv_2d(convnet, 32, 5, activation='linear')\n",
        "convnet = max_pool_2d(convnet, 5)\n",
        "\n",
        "convnet = conv_2d(convnet, 16, 5, activation='linear')\n",
        "convnet = max_pool_2d(convnet, 5)"
      ],
      "execution_count": 0,
      "outputs": []
    },
    {
      "cell_type": "code",
      "metadata": {
        "id": "N1QnrLhSAkZB",
        "colab_type": "code",
        "colab": {}
      },
      "source": [
        "convnet = fully_connected(convnet, 16, activation = 'linear')\n",
        "convnet = dropout(convnet, 0.5)\n",
        "\n",
        "convnet = fully_connected(convnet, 8, activation = 'linear')\n",
        "\n",
        "convnet = fully_connected(convnet, 4, activation = 'relu')\n",
        "\n",
        "convnet = fully_connected(convnet, 2, activation='sigmoid')\n",
        "convnet = regression(convnet, optimizer='adam', learning_rate = lr, loss='categorical_crossentropy', name='targets')"
      ],
      "execution_count": 0,
      "outputs": []
    },
    {
      "cell_type": "code",
      "metadata": {
        "id": "ieNKiGiqAnCA",
        "colab_type": "code",
        "colab": {}
      },
      "source": [
        "model = tflearn.DNN(convnet, tensorboard_dir='log')"
      ],
      "execution_count": 0,
      "outputs": []
    },
    {
      "cell_type": "code",
      "metadata": {
        "id": "-MLpv08TApZR",
        "colab_type": "code",
        "colab": {}
      },
      "source": [
        "trainNum = int(len(train_data)*-0.1)\n",
        "train = train_data[:trainNum]\n",
        "test = train_data[trainNum:]"
      ],
      "execution_count": 0,
      "outputs": []
    },
    {
      "cell_type": "code",
      "metadata": {
        "id": "7qZa1LUaBMLq",
        "colab_type": "code",
        "colab": {}
      },
      "source": [
        "X = np.array([i[0] for i in train], dtype=np.float64).reshape(-1, img_size, img_size, 1)\n",
        "y = np.array([i[1] for i in train], dtype=np.float64)\n",
        "Xtest = np.array([i[0] for i in test], dtype=np.float64).reshape(-1, img_size, img_size, 1)\n",
        "ytest = np.array([i[1] for i in test], dtype=np.float64)"
      ],
      "execution_count": 0,
      "outputs": []
    },
    {
      "cell_type": "code",
      "metadata": {
        "id": "YtGOARYgBMJx",
        "colab_type": "code",
        "colab": {
          "base_uri": "https://localhost:8080/",
          "height": 104
        },
        "outputId": "cb0b82c0-74dd-4f7a-82b3-e77c7baac3d6"
      },
      "source": [
        "model.fit({'input': X}, {'targets': y}, n_epoch=10, batch_size=100, validation_set=({'input': Xtest}, {'targets': ytest}), snapshot_step=50, show_metric=True, run_id='model' )"
      ],
      "execution_count": 106,
      "outputs": [
        {
          "output_type": "stream",
          "text": [
            "Training Step: 179  | total loss: \u001b[1m\u001b[32m0.51402\u001b[0m\u001b[0m | time: 5.005s\n",
            "| Adam | epoch: 010 | loss: 0.51402 - acc: 0.7555 -- iter: 1700/1800\n",
            "Training Step: 180  | total loss: \u001b[1m\u001b[32m0.51120\u001b[0m\u001b[0m | time: 6.305s\n",
            "| Adam | epoch: 010 | loss: 0.51120 - acc: 0.7570 | val_loss: 0.62639 - val_acc: 0.6900 -- iter: 1800/1800\n",
            "--\n"
          ],
          "name": "stdout"
        }
      ]
    },
    {
      "cell_type": "code",
      "metadata": {
        "id": "zDYhvuBmBRob",
        "colab_type": "code",
        "colab": {
          "base_uri": "https://localhost:8080/",
          "height": 51
        },
        "outputId": "9912a361-8142-4f3f-d149-21eaad04de9a"
      },
      "source": [
        "test_data = process_test_data()"
      ],
      "execution_count": 107,
      "outputs": [
        {
          "output_type": "stream",
          "text": [
            "100%|██████████| 500/500 [00:00<00:00, 914.73it/s]\n",
            "100%|██████████| 500/500 [00:00<00:00, 818.71it/s]\n"
          ],
          "name": "stderr"
        }
      ]
    },
    {
      "cell_type": "code",
      "metadata": {
        "id": "pXYykt6uB-Zh",
        "colab_type": "code",
        "colab": {
          "base_uri": "https://localhost:8080/",
          "height": 569
        },
        "outputId": "b31d7b53-4111-4778-b3d6-338891d172e6"
      },
      "source": [
        "fig = plt.figure()\n",
        "for num,data in enumerate(test_data[:16]):\n",
        "    img_num = data[1]\n",
        "    img_data = data[0]\n",
        "    y = fig.add_subplot(4, 4, num+1)\n",
        "    orig = img_data\n",
        "    data = img_data.reshape(img_size, img_size, 1)\n",
        "    model_out = model.predict([data])[0]\n",
        "    print(model_out)\n",
        "    if np.argmax(model_out) == 1: \n",
        "        label = 'Dog'\n",
        "    else: \n",
        "        label = 'Cat'\n",
        "    \n",
        "    y.imshow(orig, cmap='gray')\n",
        "    plt.title(label)\n",
        "    y.axes.get_xaxis().set_visible(False)\n",
        "    y.axes.get_yaxis().set_visible(False)\n",
        "    \n",
        "plt.tight_layout()\n",
        "plt.show()"
      ],
      "execution_count": 108,
      "outputs": [
        {
          "output_type": "stream",
          "text": [
            "[0.65780336 0.39765882]\n",
            "[0.5453937 0.4668211]\n",
            "[0.9799234  0.08694847]\n",
            "[0.9887356  0.06280427]\n",
            "[0.79956824 0.29894155]\n",
            "[0.9612071 0.1250012]\n",
            "[0.4058582  0.62162507]\n",
            "[0.621986   0.42022324]\n",
            "[0.31572065 0.73451394]\n",
            "[0.9533443  0.13820133]\n",
            "[0.0959804 0.9515073]\n",
            "[0.9111408  0.19501664]\n",
            "[0.06154415 0.97386575]\n",
            "[0.30999202 0.7416087 ]\n",
            "[0.99573106 0.03597962]\n",
            "[0.94404763 0.15240368]\n"
          ],
          "name": "stdout"
        },
        {
          "output_type": "display_data",
          "data": {
            "image/png": "[encoded data removed]",
            "text/plain": [
              "<Figure size 432x288 with 16 Axes>"
            ]
          },
          "metadata": {
            "tags": []
          }
        }
      ]
    }
  ]
}