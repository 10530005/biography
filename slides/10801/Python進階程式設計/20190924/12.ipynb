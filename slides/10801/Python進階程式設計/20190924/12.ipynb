{
 "cells": [
  {
   "cell_type": "code",
   "execution_count": 9,
   "metadata": {},
   "outputs": [
    {
     "name": "stdout",
     "output_type": "stream",
     "text": [
      "父類中的\n",
      "子類中的\n",
      "旺財\n"
     ]
    }
   ],
   "source": [
    "class Animal():\n",
    "    def __init__(self, name):\n",
    "        self.name = name     \n",
    "    def greet(self):\n",
    "        print(\"父類中的\")\n",
    "\n",
    "class Dog(Animal):\n",
    "    def greet(self):\n",
    "        #super.greet()      #通過 super 訪問父類中的方法\n",
    "        Animal.greet(self)  #通過 父類別.方法(self) 訪問父類中的方法\n",
    "        print(\"子類中的\")\n",
    "\n",
    "d=Dog(\"旺財\")\n",
    "d.greet()\n",
    "print(d.name)"
   ]
  },
  {
   "cell_type": "code",
   "execution_count": null,
   "metadata": {},
   "outputs": [],
   "source": []
  }
 ],
 "metadata": {
  "kernelspec": {
   "display_name": "Python 3",
   "language": "python",
   "name": "python3"
  },
  "language_info": {
   "codemirror_mode": {
    "name": "ipython",
    "version": 3
   },
   "file_extension": ".py",
   "mimetype": "text/x-python",
   "name": "python",
   "nbconvert_exporter": "python",
   "pygments_lexer": "ipython3",
   "version": "3.6.5"
  }
 },
 "nbformat": 4,
 "nbformat_minor": 2
}
