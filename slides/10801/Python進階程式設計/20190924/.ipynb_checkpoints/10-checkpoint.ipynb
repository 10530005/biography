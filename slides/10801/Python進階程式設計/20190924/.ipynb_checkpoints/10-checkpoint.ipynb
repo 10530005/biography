{
 "cells": [
  {
   "cell_type": "code",
   "execution_count": 5,
   "metadata": {},
   "outputs": [
    {
     "name": "stdout",
     "output_type": "stream",
     "text": [
      "fly\n",
      "<__main__.Bird object at 0x0000015E526969B0>\n",
      "b:  lalal\n",
      "eat\n",
      "<class '__main__.Bird'>\n",
      "cls: lalal\n",
      "sleep\n",
      "eat\n",
      "<class '__main__.Bird'>\n",
      "cls: lalal\n",
      "sleep\n"
     ]
    }
   ],
   "source": [
    "class Bird:\n",
    "    name=\"lalal\"\n",
    "    \n",
    "    def fly(self):\n",
    "        print(\"fly\")\n",
    "        print(self) #輸出: <__main__.Bird object at 0x00000000022032E8>\n",
    "    \n",
    "    @classmethod #類方法(由@classmethod裝飾的方法)\n",
    "    def eat(cls):#類方法的第一個引數都是類物件而不是例項物件\n",
    "                 #類方法可以通過類或它的例項來呼叫\n",
    "        print(\"eat\")\n",
    "        print(cls) #輸出：<class '__main__.Bird'>\n",
    "        #print(\"cls: \",cls.name)\n",
    "\n",
    "    @staticmethod #靜態方法(由@staticmethod裝飾的方法)\n",
    "    def sleep():  #不需要定義例項即可使用靜態方法。另外，多個例項共享此靜態方法。\n",
    "                 #使用了靜態方法，就不能再使用self             \n",
    "        # print(name) #靜態方法不能訪問類變數和例項變數會報錯\n",
    "        print(\"sleep\")  \n",
    "\n",
    "b = Bird() # Bird.fly(b) 傳遞self進去，不傳遞只是一個語法糖\n",
    "\n",
    "\n",
    "b.fly()  #例項方法只能被例項物件呼叫\n",
    "#print(\"b: \",b.name)\n",
    "\n",
    "#可以被類或類的例項物件呼叫\n",
    "b.eat()\n",
    "b.sleep()\n",
    "\n",
    "#可以被類或類的例項物件呼叫\n",
    "Bird.eat()\n",
    "Bird.sleep()"
   ]
  },
  {
   "cell_type": "code",
   "execution_count": null,
   "metadata": {},
   "outputs": [],
   "source": []
  }
 ],
 "metadata": {
  "kernelspec": {
   "display_name": "Python 3",
   "language": "python",
   "name": "python3"
  }
 },
 "nbformat": 4,
 "nbformat_minor": 2
}
