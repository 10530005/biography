{
 "cells": [
  {
   "cell_type": "code",
   "execution_count": 2,
   "metadata": {},
   "outputs": [],
   "source": [
    "class Luffy:\n",
    "    def __init__(self,dream):\n",
    "        print(\"類初始化的時候執行__init__\")\n",
    "        self.__dream=dream\n",
    "    __name=\"蒙奇·D·路飛\" #加__字首變成私有變數\n",
    "    age=10\n",
    "    def eatmeat(self):\n",
    "        print(\"吃肉\", self.__dream) #私有變數在外部無法訪問，內部可以訪問"
   ]
  },
  {
   "cell_type": "code",
   "execution_count": 6,
   "metadata": {},
   "outputs": [
    {
     "name": "stdout",
     "output_type": "stream",
     "text": [
      "類初始化的時候執行__init__\n"
     ]
    },
    {
     "ename": "AttributeError",
     "evalue": "'Luffy' object has no attribute '__name'",
     "output_type": "error",
     "traceback": [
      "\u001b[1;31m---------------------------------------------------------------------------\u001b[0m",
      "\u001b[1;31mAttributeError\u001b[0m                            Traceback (most recent call last)",
      "\u001b[1;32m<ipython-input-6-38fb733383cb>\u001b[0m in \u001b[0;36m<module>\u001b[1;34m()\u001b[0m\n\u001b[0;32m      1\u001b[0m \u001b[0ml\u001b[0m \u001b[1;33m=\u001b[0m \u001b[0mLuffy\u001b[0m\u001b[1;33m(\u001b[0m\u001b[1;34m\"夢想是找到傳說中的One Piece，成為海賊王\"\u001b[0m\u001b[1;33m)\u001b[0m      \u001b[1;31m#例項化\u001b[0m\u001b[1;33m\u001b[0m\u001b[0m\n\u001b[1;32m----> 2\u001b[1;33m \u001b[0mprint\u001b[0m\u001b[1;33m(\u001b[0m\u001b[0ml\u001b[0m\u001b[1;33m.\u001b[0m\u001b[0m__name\u001b[0m\u001b[1;33m)\u001b[0m \u001b[1;31m#報錯 'Lufei' object has no attribute 'name'\u001b[0m\u001b[1;33m\u001b[0m\u001b[0m\n\u001b[0m",
      "\u001b[1;31mAttributeError\u001b[0m: 'Luffy' object has no attribute '__name'"
     ]
    }
   ],
   "source": [
    "l = Luffy(\"夢想是找到傳說中的One Piece，成為海賊王\")      #例項化\n",
    "l.eatmeat()    #呼叫類的方法"
   ]
  },
  {
   "cell_type": "code",
   "execution_count": 7,
   "metadata": {},
   "outputs": [
    {
     "name": "stdout",
     "output_type": "stream",
     "text": [
      "吃肉 夢想是找到傳說中的One Piece，成為海賊王\n"
     ]
    }
   ],
   "source": [
    "print(l.__name) #報錯 'Lufei' object has no attribute 'name'"
   ]
  },
  {
   "cell_type": "code",
   "execution_count": null,
   "metadata": {},
   "outputs": [],
   "source": []
  }
 ],
 "metadata": {
  "kernelspec": {
   "display_name": "Python 3",
   "language": "python",
   "name": "python3"
  },
  "language_info": {
   "codemirror_mode": {
    "name": "ipython",
    "version": 3
   },
   "file_extension": ".py",
   "mimetype": "text/x-python",
   "name": "python",
   "nbconvert_exporter": "python",
   "pygments_lexer": "ipython3",
   "version": "3.6.5"
  }
 },
 "nbformat": 4,
 "nbformat_minor": 2
}
