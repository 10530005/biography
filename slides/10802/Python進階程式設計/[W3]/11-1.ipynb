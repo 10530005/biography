{
 "cells": [
  {
   "cell_type": "code",
   "execution_count": 5,
   "metadata": {},
   "outputs": [
    {
     "name": "stdout",
     "output_type": "stream",
     "text": [
      "蒙奇·D·龍\n",
      "推翻世界政府，建立和諧，自由，平等，充滿夢想的世界。\n",
      "平衡新世界的勢力。\n"
     ]
    }
   ],
   "source": [
    "#父類\n",
    "class Dragon:\n",
    "    name=\"蒙奇·D·龍\"\n",
    "    def Getdream1(self):\n",
    "        print(\"推翻世界政府，建立和諧，自由，平等，充滿夢想的世界。\")\n",
    "\n",
    "class Shanks:\n",
    "    name=\"香克斯\"\n",
    "    def Getdream2(self):\n",
    "        print(\"平衡新世界的勢力。\")\n",
    "    \n",
    "class Luffy(Dragon,Shanks):\n",
    "    pass\n",
    "\n",
    "l=Luffy() #例項化子類\n",
    "print(l.name) #當訪問的屬性兩個父類中都有定義的時候以第一個為主\n",
    "l.Getdream1() #從父類Dragon繼承來的\n",
    "l.Getdream2() #從父類Shanks繼承來的"
   ]
  },
  {
   "cell_type": "code",
   "execution_count": null,
   "metadata": {},
   "outputs": [],
   "source": []
  }
 ],
 "metadata": {
  "kernelspec": {
   "display_name": "Python 3",
   "language": "python",
   "name": "python3"
  },
  "language_info": {
   "codemirror_mode": {
    "name": "ipython",
    "version": 3
   },
   "file_extension": ".py",
   "mimetype": "text/x-python",
   "name": "python",
   "nbconvert_exporter": "python",
   "pygments_lexer": "ipython3",
   "version": "3.6.5"
  }
 },
 "nbformat": 4,
 "nbformat_minor": 2
}
