{
 "cells": [
  {
   "cell_type": "code",
   "execution_count": 4,
   "metadata": {},
   "outputs": [
    {
     "name": "stdout",
     "output_type": "stream",
     "text": [
      "三檔\n",
      "推翻世界政府，建立和諧，自由，平等，充滿夢想的世界。\n",
      "火拳\n",
      "推翻世界政府，建立和諧，自由，平等，充滿夢想的世界。\n"
     ]
    }
   ],
   "source": [
    "#父類\n",
    "class Dragon:\n",
    "    name=\"蒙奇·D·龍\"\n",
    "    def Getdream(self):\n",
    "        print(\"推翻世界政府，建立和諧，自由，平等，充滿夢想的世界。\")\n",
    "#子類\n",
    "class Luffy(Dragon):\n",
    "    name=\"蒙奇·D·路飛\"\n",
    "    def Uniqueskills(self):\n",
    "        print(\"三檔\")\n",
    "\n",
    "#子類\n",
    "class Ace(Dragon):\n",
    "    name=\"艾斯\"\n",
    "    def Uniqueskills(self):\n",
    "        print(\"火拳\")   \n",
    "\n",
    "#定義父類作為引數，所有的子類都可以傳參進去\n",
    "def Show(R):\n",
    "    R.Uniqueskills()\n",
    "    R.Getdream()\n",
    "\n",
    "Show(Luffy()) #輸出三擋\n",
    "Show(Ace())  #輸出火拳"
   ]
  },
  {
   "cell_type": "code",
   "execution_count": null,
   "metadata": {},
   "outputs": [],
   "source": []
  }
 ],
 "metadata": {
  "kernelspec": {
   "display_name": "Python 3",
   "language": "python",
   "name": "python3"
  },
  "language_info": {
   "codemirror_mode": {
    "name": "ipython",
    "version": 3
   },
   "file_extension": ".py",
   "mimetype": "text/x-python",
   "name": "python",
   "nbconvert_exporter": "python",
   "pygments_lexer": "ipython3",
   "version": "3.6.5"
  }
 },
 "nbformat": 4,
 "nbformat_minor": 2
}
