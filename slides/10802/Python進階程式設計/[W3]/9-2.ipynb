{
 "cells": [
  {
   "cell_type": "code",
   "execution_count": 10,
   "metadata": {},
   "outputs": [],
   "source": [
    "class Luffy:\n",
    "    def __init__(self,dream):\n",
    "        print(\"類初始化的時候執行__init__\")\n",
    "        self.__dream=dream\n",
    "    \n",
    "    name=\"蒙奇·D·路飛\" \n",
    "    __age=10 \n",
    "    #加__字首變成私有變數\n",
    "    #通過方法或者私有變數返回\n",
    "    \n",
    "    def getage(self):\n",
    "        return self.__age\n",
    "        #通過方法對私有變數進行賦值操作，並可以進行資料安全驗證\n",
    "        \n",
    "    def setage(self,age):\n",
    "        if age<0:\n",
    "            return \"太小了\"\n",
    "        else:\n",
    "            self.__age = age\n",
    "            return \"ok\"\n",
    "\n",
    "    def eatmeat(self):\n",
    "        print(\"吃肉\", self.__dream) \n",
    "        #私有變數在外部無法訪問，內部可以訪問\n",
    "        \n",
    "    def __getdream(self):#定義一個私有方法\n",
    "        print(self.__dream)  #class外界無法訪問，內部可以同self.__getdream()訪問"
   ]
  },
  {
   "cell_type": "code",
   "execution_count": 11,
   "metadata": {},
   "outputs": [
    {
     "ename": "AttributeError",
     "evalue": "'Luffy' object has no attribute '__getdream'",
     "output_type": "error",
     "traceback": [
      "\u001b[1;31m---------------------------------------------------------------------------\u001b[0m",
      "\u001b[1;31mAttributeError\u001b[0m                            Traceback (most recent call last)",
      "\u001b[1;32m<ipython-input-11-3f451af235db>\u001b[0m in \u001b[0;36m<module>\u001b[1;34m()\u001b[0m\n\u001b[1;32m----> 1\u001b[1;33m \u001b[0ml\u001b[0m\u001b[1;33m.\u001b[0m\u001b[0m__getdream\u001b[0m\u001b[1;33m(\u001b[0m\u001b[1;33m)\u001b[0m\u001b[1;33m\u001b[0m\u001b[0m\n\u001b[0m",
      "\u001b[1;31mAttributeError\u001b[0m: 'Luffy' object has no attribute '__getdream'"
     ]
    }
   ],
   "source": [
    "l.__getdream()"
   ]
  },
  {
   "cell_type": "code",
   "execution_count": null,
   "metadata": {},
   "outputs": [],
   "source": []
  }
 ],
 "metadata": {
  "kernelspec": {
   "display_name": "Python 3",
   "language": "python",
   "name": "python3"
  },
  "language_info": {
   "codemirror_mode": {
    "name": "ipython",
    "version": 3
   },
   "file_extension": ".py",
   "mimetype": "text/x-python",
   "name": "python",
   "nbconvert_exporter": "python",
   "pygments_lexer": "ipython3",
   "version": "3.6.5"
  }
 },
 "nbformat": 4,
 "nbformat_minor": 2
}
