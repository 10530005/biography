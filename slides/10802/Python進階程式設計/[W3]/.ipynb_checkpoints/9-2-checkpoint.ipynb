{
 "cells": [
  {
   "cell_type": "code",
   "execution_count": 2,
   "metadata": {},
   "outputs": [],
   "source": [
    "class Luffy:\n",
    "    def __init__(self,dream):\n",
    "        print(\"類初始化的時候執行__init__\")\n",
    "        self.__dream=dream\n",
    "    \n",
    "    name=\"蒙奇·D·路飛\" \n",
    "    __age=10 \n",
    "    #加__字首變成私有變數\n",
    "    #通過方法或者私有變數返回\n",
    "    \n",
    "    def getage(self):\n",
    "        return self.__age\n",
    "        #通過方法對私有變數進行賦值操作，並可以進行資料安全驗證\n",
    "        \n",
    "    def setage(self,age):\n",
    "        if age<0:\n",
    "            return \"太小了\"\n",
    "        else:\n",
    "            self.__age = age\n",
    "            return \"ok\"\n",
    "\n",
    "    def eatmeat(self):\n",
    "        print(\"吃肉\", self.__dream) \n",
    "        #私有變數在外部無法訪問，內部可以訪問"
   ]
  },
  {
   "cell_type": "code",
   "execution_count": null,
   "metadata": {},
   "outputs": [],
   "source": []
  }
 ],
 "metadata": {
  "kernelspec": {
   "display_name": "Python 3",
   "language": "python",
   "name": "python3"
  },
  "language_info": {
   "codemirror_mode": {
    "name": "ipython",
    "version": 3
   },
   "file_extension": ".py",
   "mimetype": "text/x-python",
   "name": "python",
   "nbconvert_exporter": "python",
   "pygments_lexer": "ipython3",
   "version": "3.6.5"
  }
 },
 "nbformat": 4,
 "nbformat_minor": 2
}
