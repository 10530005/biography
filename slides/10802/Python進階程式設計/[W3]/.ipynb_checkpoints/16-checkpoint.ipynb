{
 "cells": [
  {
   "cell_type": "code",
   "execution_count": 1,
   "metadata": {},
   "outputs": [
    {
     "name": "stdout",
     "output_type": "stream",
     "text": [
      "描述類的資訊\n",
      "__main__\n",
      "<class '__main__.BigBrid'>\n",
      "{'__module__': '__main__', '__doc__': '描述類的資訊', 'name': 'bb', 'eat': <function BigBrid.eat at 0x00000186CF6AC8C8>, '__str__': <function BigBrid.__str__ at 0x00000186CF6ACD08>, '__dict__': <attribute '__dict__' of 'BigBrid' objects>, '__weakref__': <attribute '__weakref__' of 'BigBrid' objects>}\n",
      "{'name': 'lala'}\n",
      "lidao\n"
     ]
    }
   ],
   "source": [
    "class BigBrid:\n",
    "    '''描述類的資訊''' #BigBrid.__doc__ 可以看到    \n",
    "    name=\"bb\"\n",
    "    def eat(self):\n",
    "        print(\"吃\")\n",
    "    def __str__(self):\n",
    "        return 'lidao'\n",
    "\n",
    "b=BigBrid()\n",
    "b.name=\"lala\"\n",
    "print(b.__doc__) #輸出：描述類的資訊\n",
    "print(b.__module__)#輸出：__main__\n",
    "print(b.__class__)#輸出：<class '__main__.BigBrid'>\n",
    "#__init__ 構造方法，通過類建立物件時，自動觸發執行\n",
    "#__del__析構方法，當物件在記憶體中被釋放時，自動觸發執行。\n",
    "print(BigBrid.__dict__) #獲取類的成員 \n",
    "print(b.__dict__) #獲取 物件b 的成員 輸出：{'name': 'lala'}\n",
    "#__str__ 如果一個類中定義了__str__方法，那麼在列印 物件 時，預設輸出該方法的返回值。\n",
    "print(b) #輸出 lidao"
   ]
  },
  {
   "cell_type": "code",
   "execution_count": null,
   "metadata": {},
   "outputs": [],
   "source": []
  }
 ],
 "metadata": {
  "kernelspec": {
   "display_name": "Python 3",
   "language": "python",
   "name": "python3"
  },
  "language_info": {
   "codemirror_mode": {
    "name": "ipython",
    "version": 3
   },
   "file_extension": ".py",
   "mimetype": "text/x-python",
   "name": "python",
   "nbconvert_exporter": "python",
   "pygments_lexer": "ipython3",
   "version": "3.6.5"
  }
 },
 "nbformat": 4,
 "nbformat_minor": 2
}
