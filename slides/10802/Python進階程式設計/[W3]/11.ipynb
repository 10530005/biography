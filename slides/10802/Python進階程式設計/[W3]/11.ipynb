{
 "cells": [
  {
   "cell_type": "code",
   "execution_count": 3,
   "metadata": {},
   "outputs": [
    {
     "name": "stdout",
     "output_type": "stream",
     "text": [
      "推翻世界政府，建立和諧，自由，平等，充滿夢想的世界。\n"
     ]
    }
   ],
   "source": [
    "#父類\n",
    "class Dragon:\n",
    "    name=\"蒙奇·D·龍\"\n",
    "    def Getdream(self):\n",
    "        print(\"推翻世界政府，建立和諧，自由，平等，充滿夢想的世界。\")\n",
    "#子類\n",
    "class Luffy(Dragon):\n",
    "    pass\n",
    "\n",
    "l=Luffy() #例項化子類\n",
    "l.Getdream() #從父類繼承來的"
   ]
  },
  {
   "cell_type": "code",
   "execution_count": null,
   "metadata": {},
   "outputs": [],
   "source": []
  }
 ],
 "metadata": {
  "kernelspec": {
   "display_name": "Python 3",
   "language": "python",
   "name": "python3"
  },
  "language_info": {
   "codemirror_mode": {
    "name": "ipython",
    "version": 3
   },
   "file_extension": ".py",
   "mimetype": "text/x-python",
   "name": "python",
   "nbconvert_exporter": "python",
   "pygments_lexer": "ipython3",
   "version": "3.6.5"
  }
 },
 "nbformat": 4,
 "nbformat_minor": 2
}
