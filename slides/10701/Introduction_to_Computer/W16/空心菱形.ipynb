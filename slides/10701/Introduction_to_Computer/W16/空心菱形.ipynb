{
 "cells": [
  {
   "cell_type": "code",
   "execution_count": 15,
   "metadata": {},
   "outputs": [
    {
     "name": "stdout",
     "output_type": "stream",
     "text": [
      "    \n",
      "\n",
      "   *\n",
      "\n",
      "  * *\n",
      "\n",
      " *   *\n",
      "\n",
      "*     *\n",
      "\n",
      " *   *\n",
      "\n",
      "  * *\n",
      "\n",
      "   *\n",
      "\n"
     ]
    }
   ],
   "source": [
    "rows = 4\n",
    "i = j = k = 1 #i用來控制外層迴圈（圖形行數），j用來控制空格的個數，k用來控制*的個數\n",
    "\n",
    "for i in range(rows):#變數i控制行數\n",
    "    for j in range(rows - i):#(1,rows-i)\n",
    "        print(\" \",end='') #使用 end=''，可以不換行\n",
    "        j += 1\n",
    "    for k in range(2 * i - 1):#(1,2*i)\n",
    "        if k == 0 or k == 2 * i - 2:\n",
    "            print(\"*\",end='') #使用 end=''，可以不換行\n",
    "        else:\n",
    "            print(\" \",end='') #使用 end=''，可以不換行\n",
    "        k += 1\n",
    "    print(\"\\n\")\n",
    "    i += 1\n",
    "    #菱形的下半部分\n",
    "for i in range(rows):\n",
    "    for j in range(i):#(1,rows-i)\n",
    "        print(\" \",end='') #使用 end=''，可以不換行\n",
    "        j += 1\n",
    "    for k in range(2 * (rows - i) - 1):#(1,2*i)\n",
    "        if k == 0 or k == 2 * (rows - i) - 2:\n",
    "            print(\"*\",end='') #使用 end=''，可以不換行\n",
    "        else:\n",
    "            print(\" \",end='') #使用 end=''，可以不換行\n",
    "        k += 1\n",
    "    print(\"\\n\")\n",
    "    i += 1"
   ]
  },
  {
   "cell_type": "code",
   "execution_count": null,
   "metadata": {},
   "outputs": [],
   "source": []
  }
 ],
 "metadata": {
  "kernelspec": {
   "display_name": "Python 3",
   "language": "python",
   "name": "python3"
  },
  "language_info": {
   "codemirror_mode": {
    "name": "ipython",
    "version": 3
   },
   "file_extension": ".py",
   "mimetype": "text/x-python",
   "name": "python",
   "nbconvert_exporter": "python",
   "pygments_lexer": "ipython3",
   "version": "3.6.5"
  }
 },
 "nbformat": 4,
 "nbformat_minor": 2
}
