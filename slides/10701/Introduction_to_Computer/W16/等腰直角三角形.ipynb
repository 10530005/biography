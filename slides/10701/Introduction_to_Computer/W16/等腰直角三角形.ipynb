{
 "cells": [
  {
   "cell_type": "code",
   "execution_count": 6,
   "metadata": {},
   "outputs": [
    {
     "name": "stdout",
     "output_type": "stream",
     "text": [
      "等腰直角三角形1\n",
      " *  *  *  * \n",
      "\n",
      " *  *  * \n",
      "\n",
      " *  * \n",
      "\n",
      " * \n",
      "\n"
     ]
    }
   ],
   "source": [
    "rows = 4\n",
    "i = j = k = 1 #i用來控制外層迴圈（圖形行數），j用來控制空格的個數，k用來控制*的個數\n",
    "#等腰直角三角形\n",
    "for i in range(0, rows):\n",
    "    for k in range(0, rows - i):\n",
    "        print(\" * \",end='') #使用 end=''，可以不換行\n",
    "        k += 1\n",
    "    i += 1\n",
    "    print(\"\\n\")"
   ]
  },
  {
   "cell_type": "code",
   "execution_count": null,
   "metadata": {},
   "outputs": [],
   "source": []
  }
 ],
 "metadata": {
  "kernelspec": {
   "display_name": "Python 3",
   "language": "python",
   "name": "python3"
  },
  "language_info": {
   "codemirror_mode": {
    "name": "ipython",
    "version": 3
   },
   "file_extension": ".py",
   "mimetype": "text/x-python",
   "name": "python",
   "nbconvert_exporter": "python",
   "pygments_lexer": "ipython3",
   "version": "3.6.5"
  }
 },
 "nbformat": 4,
 "nbformat_minor": 2
}
