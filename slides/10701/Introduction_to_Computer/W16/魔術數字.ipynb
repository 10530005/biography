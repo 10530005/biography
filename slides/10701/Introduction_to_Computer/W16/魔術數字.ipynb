{
 "cells": [
  {
   "cell_type": "code",
   "execution_count": 1,
   "metadata": {},
   "outputs": [
    {
     "name": "stdout",
     "output_type": "stream",
     "text": [
      "數字        平方        幾何級數      階乘        \n",
      "1           1           2           1           \n",
      "2           4           4           2           \n",
      "3           9           8           6           \n",
      "4           16          16          24          \n",
      "5           25          32          120         \n",
      "6           36          64          720         \n",
      "7           49          128         5040        \n",
      "8           64          256         40320       \n",
      "9           81          512         362880      \n",
      "10          100         1024        3628800     \n"
     ]
    }
   ],
   "source": [
    "from math import factorial\n",
    "\n",
    "#i = 1\n",
    "print('%-10s%-10s%-10s%-10s' % ('數字', '平方', '幾何級數', '階乘'))\n",
    "for num in range(1, 11):\n",
    "    print('%-12d%-12d%-12d%-12d' % (num, num ** 2, 2 ** num, factorial(num)))\n",
    "    #i=i*num\n",
    "    #print('%-12d%-12d%-12d%-12d' % (num, num ** 2, 2 ** num, i))"
   ]
  },
  {
   "cell_type": "code",
   "execution_count": null,
   "metadata": {},
   "outputs": [],
   "source": []
  }
 ],
 "metadata": {
  "kernelspec": {
   "display_name": "Python 3",
   "language": "python",
   "name": "python3"
  },
  "language_info": {
   "codemirror_mode": {
    "name": "ipython",
    "version": 3
   },
   "file_extension": ".py",
   "mimetype": "text/x-python",
   "name": "python",
   "nbconvert_exporter": "python",
   "pygments_lexer": "ipython3",
   "version": "3.6.5"
  }
 },
 "nbformat": 4,
 "nbformat_minor": 2
}
