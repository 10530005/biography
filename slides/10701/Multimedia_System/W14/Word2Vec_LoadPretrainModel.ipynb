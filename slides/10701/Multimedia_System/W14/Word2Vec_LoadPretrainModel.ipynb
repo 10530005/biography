{
 "cells": [
  {
   "cell_type": "code",
   "execution_count": null,
   "metadata": {},
   "outputs": [
    {
     "name": "stdout",
     "output_type": "stream",
     "text": [
      "\n",
      "1.輸入一個詞彙會找出前5名相似\n",
      "2.輸入兩個詞彙會算出兩者之間相似度\n",
      "3.輸入三個詞彙爸爸之於老公,如媽媽之於老婆\n",
      "\n",
      "輸入格式( Ex: 爸爸,媽媽,....註:最多三個詞彙)\n",
      "爸爸,媽媽\n"
     ]
    },
    {
     "name": "stderr",
     "output_type": "stream",
     "text": [
      "/usr/local/lib/python3.5/dist-packages/gensim/matutils.py:737: FutureWarning: Conversion of the second argument of issubdtype from `int` to `np.signedinteger` is deprecated. In future, it will be treated as `np.int64 == np.dtype(int).type`.\n",
      "  if np.issubdtype(vec.dtype, np.int):\n"
     ]
    },
    {
     "name": "stdout",
     "output_type": "stream",
     "text": [
      "計算兩個詞彙間 Cosine 相似度\n",
      "0.8449452\n",
      "\n",
      "輸入格式( Ex: 爸爸,媽媽,....註:最多三個詞彙)\n",
      "爸爸,老公,媽媽\n",
      "爸爸之於老公，如媽媽之於\n",
      "老婆,0.6372354030609131\n",
      "柯欣宜,0.596299409866333\n",
      "花姨,0.5874218344688416\n",
      "發財夢,0.5865834951400757\n",
      "費洛洛,0.5831170082092285\n",
      "\n",
      "輸入格式( Ex: 爸爸,媽媽,....註:最多三個詞彙)\n",
      "柯文哲\n",
      "詞彙相似詞前 5 排序\n",
      "Error:KeyError(\"word '柯文哲' not in vocabulary\",)\n",
      "\n",
      "輸入格式( Ex: 爸爸,媽媽,....註:最多三個詞彙)\n",
      "臺灣\n",
      "詞彙相似詞前 5 排序\n",
      "Error:KeyError(\"word '臺灣' not in vocabulary\",)\n",
      "\n",
      "輸入格式( Ex: 爸爸,媽媽,....註:最多三個詞彙)\n",
      "九二共識\n",
      "詞彙相似詞前 5 排序\n",
      "Error:KeyError(\"word '九二共識' not in vocabulary\",)\n",
      "\n",
      "輸入格式( Ex: 爸爸,媽媽,....註:最多三個詞彙)\n",
      "總統\n",
      "詞彙相似詞前 5 排序\n",
      "任總統,0.7694731950759888\n",
      "總統候,0.7511427998542786\n",
      "瞭總統,0.7265008091926575\n",
      "將連任,0.7072250247001648\n",
      "大選,0.7070605754852295\n",
      "\n",
      "輸入格式( Ex: 爸爸,媽媽,....註:最多三個詞彙)\n",
      "日本\n",
      "詞彙相似詞前 5 排序\n",
      "中國,0.5893039703369141\n",
      "地圖帳,0.5737873315811157\n",
      "網株,0.5735098719596863\n",
      "關西廣域,0.5640837550163269\n",
      "日,0.555132269859314\n"
     ]
    }
   ],
   "source": [
    "# -*- coding: utf-8 -*-\n",
    "import warnings\n",
    "warnings.filterwarnings(action = 'ignore', category = UserWarning, module = 'gensim')\n",
    "from gensim.models.keyedvectors import KeyedVectors\n",
    "'''# 一次處理完畢\n",
    "from wiki_to_txt import Wiki_to_txt\n",
    "from segmentation import Segmentation\n",
    "from train import Train\n",
    "'''\n",
    "\n",
    "# 載入 model 並去運用\n",
    "def main():\n",
    "\t\n",
    "\t'''# 一次處理完畢\n",
    "\twiki_to_txt = Wiki_to_txt()\n",
    "\t# 將 wiki xml 轉換成 wiki txt\n",
    "\twiki_to_txt.set_wiki_to_txt(\"zhwiki-latest-pages-articles.xml.bz2\")\n",
    "\tsegmentation = Segmentation()\n",
    "\t# 讀取停用詞辭典\n",
    "\tsegmentation.set_stopword()\n",
    "\t# data 進行簡體轉繁體\n",
    "\tsegmentation.simplified_to_traditional()\n",
    "\t# 進行 jieba 斷詞同步過濾停用詞，並產生辭典\n",
    "\tsegmentation.segmentation()\n",
    "\tt = Train()\n",
    "\t# 訓練(shallow semantic space)\n",
    "\tt.train()\n",
    "\t'''\n",
    "\t# 可參考 https://radimrehurek.com/gensim/models/word2vec.html 更多運用\n",
    "\t# How to use bin(model)?\n",
    "\tword_vectors = KeyedVectors.load_word2vec_format(\"wiki300.model.bin\", binary = True)\n",
    "\tprint(\"\\n1.輸入一個詞彙會找出前5名相似\")\n",
    "\tprint(\"2.輸入兩個詞彙會算出兩者之間相似度\")\n",
    "\tprint(\"3.輸入三個詞彙爸爸之於老公,如媽媽之於老婆\")\n",
    "\twhile True:\n",
    "\t\ttry:\n",
    "\t\t\tquery = input(\"\\n輸入格式( Ex: 爸爸,媽媽,....註:最多三個詞彙)\\n\")\n",
    "\t\t\tquery_list = query.split(\",\")\n",
    "\t\t\tif len(query_list) == 1:\n",
    "\t\t\t\tprint(\"詞彙相似詞前 5 排序\")\n",
    "\t\t\t\tres = word_vectors.most_similar(query_list[0], topn = 5)\n",
    "\t\t\t\tfor item in res:\n",
    "\t\t\t\t\tprint(item[0] + \",\" + str(item[1]))\n",
    "\t\t\telif len(query_list) == 2:\n",
    "\t\t\t\tprint(\"計算兩個詞彙間 Cosine 相似度\")\n",
    "\t\t\t\tres = word_vectors.similarity(query_list[0], query_list[1])\n",
    "\t\t\t\tprint(res)\n",
    "\t\t\telse:\n",
    "\t\t\t\tprint(\"%s之於%s，如%s之於\" % (query_list[0], query_list[1], query_list[2]))\n",
    "\t\t\t\tres = word_vectors.most_similar(positive = [query_list[0], query_list[1]], negative = [query_list[2]], topn = 5)\n",
    "\t\t\t\tfor item in res:\n",
    "\t\t\t\t\tprint(item[0] + \",\" + str(item[1]))\n",
    "\t\texcept Exception as e:\n",
    "\t\t\tprint(\"Error:\" + repr(e))\n",
    "\n",
    "if __name__ == \"__main__\":\n",
    "    main()"
   ]
  },
  {
   "cell_type": "code",
   "execution_count": null,
   "metadata": {},
   "outputs": [],
   "source": []
  }
 ],
 "metadata": {
  "kernelspec": {
   "display_name": "Python 3",
   "language": "python",
   "name": "python3"
  },
  "language_info": {
   "codemirror_mode": {
    "name": "ipython",
    "version": 3
   },
   "file_extension": ".py",
   "mimetype": "text/x-python",
   "name": "python",
   "nbconvert_exporter": "python",
   "pygments_lexer": "ipython3",
   "version": "3.5.2"
  }
 },
 "nbformat": 4,
 "nbformat_minor": 2
}
