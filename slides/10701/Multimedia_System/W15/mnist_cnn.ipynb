{
 "cells": [
  {
   "cell_type": "code",
   "execution_count": 1,
   "metadata": {},
   "outputs": [
    {
     "name": "stderr",
     "output_type": "stream",
     "text": [
      "Using TensorFlow backend.\n"
     ]
    }
   ],
   "source": [
    "#Step 1. Import\n",
    "import numpy as np\n",
    "import matplotlib.pyplot as plt\n",
    "\n",
    "from keras.datasets import mnist\n",
    "from keras.models import Sequential\n",
    "from keras.layers import Dense, Dropout, Activation\n",
    "from keras.layers import Conv2D, MaxPool2D, Flatten\n",
    "from keras import utils as np_utils"
   ]
  },
  {
   "cell_type": "code",
   "execution_count": 2,
   "metadata": {},
   "outputs": [],
   "source": [
    "nb_classes = 10\n",
    "#Step 2. Load Data From Web\n",
    "(x_train, y_train), (x_test, y_test) = mnist.load_data()\n",
    "img_channel = 1"
   ]
  },
  {
   "cell_type": "code",
   "execution_count": 3,
   "metadata": {},
   "outputs": [
    {
     "name": "stdout",
     "output_type": "stream",
     "text": [
      "<class 'numpy.ndarray'>\n",
      "x_train shape (60000, 28, 28)\n",
      "y_train shape (60000,)\n"
     ]
    }
   ],
   "source": [
    "print(type(x_train))\n",
    "print(\"x_train shape\", x_train.shape)\n",
    "print(\"y_train shape\", y_train.shape)"
   ]
  },
  {
   "cell_type": "code",
   "execution_count": 4,
   "metadata": {},
   "outputs": [
    {
     "data": {
      "image/png": "[encoded data removed]",
      "text/plain": [
       "<Figure size 432x288 with 2 Axes>"
      ]
     },
     "metadata": {},
     "output_type": "display_data"
    }
   ],
   "source": [
    "#Step 3. Show Data\n",
    "fig = plt.figure()\n",
    "plt.subplot(2,1,1)\n",
    "plt.imshow(x_train[0], cmap=\"binary\", interpolation=\"none\")\n",
    "plt.title(\"image\" + str(y_train[0]))\n",
    "plt.subplot(2,1,2)\n",
    "plt.hist(x_train[0].reshape(784))\n",
    "plt.title(\"Pixel Values\")\n",
    "plt.show()"
   ]
  },
  {
   "cell_type": "code",
   "execution_count": 5,
   "metadata": {},
   "outputs": [],
   "source": [
    "#Step 4. Prepare Training\n",
    "img_size_x, img_size_y = 28, 28\n",
    "x_train = x_train.reshape(x_train.shape[0], img_size_x, img_size_y, img_channel)\n",
    "x_test = x_test.reshape(x_test.shape[0], img_size_x, img_size_y, img_channel)\n",
    "input_shape = (img_size_x, img_size_y, img_channel)\n",
    "x_train = x_train.astype(\"float32\")\n",
    "x_test = x_test.astype(\"float32\")\n",
    "x_train /= 255\n",
    "x_test /= 255"
   ]
  },
  {
   "cell_type": "code",
   "execution_count": 6,
   "metadata": {},
   "outputs": [
    {
     "name": "stdout",
     "output_type": "stream",
     "text": [
      "(60000, 28, 28, 1)\n",
      "(60000, 10)\n",
      "(10000, 28, 28, 1)\n",
      "(10000, 10)\n"
     ]
    }
   ],
   "source": [
    "#Step 5. One hot encoding\n",
    "y_train = np_utils.to_categorical(y_train,nb_classes)\n",
    "y_test = np_utils.to_categorical(y_test,nb_classes)\n",
    "\n",
    "print(x_train.shape)\n",
    "print(y_train.shape)\n",
    "print(x_test.shape)\n",
    "print(y_test.shape)"
   ]
  },
  {
   "cell_type": "code",
   "execution_count": 7,
   "metadata": {},
   "outputs": [
    {
     "name": "stdout",
     "output_type": "stream",
     "text": [
      "_________________________________________________________________\n",
      "Layer (type)                 Output Shape              Param #   \n",
      "=================================================================\n",
      "conv2d_1 (Conv2D)            (None, 26, 26, 32)        320       \n",
      "_________________________________________________________________\n",
      "conv2d_2 (Conv2D)            (None, 24, 24, 64)        18496     \n",
      "_________________________________________________________________\n",
      "max_pooling2d_1 (MaxPooling2 (None, 12, 12, 64)        0         \n",
      "_________________________________________________________________\n",
      "dropout_1 (Dropout)          (None, 12, 12, 64)        0         \n",
      "_________________________________________________________________\n",
      "flatten_1 (Flatten)          (None, 9216)              0         \n",
      "_________________________________________________________________\n",
      "dense_1 (Dense)              (None, 128)               1179776   \n",
      "_________________________________________________________________\n",
      "dropout_2 (Dropout)          (None, 128)               0         \n",
      "_________________________________________________________________\n",
      "dense_2 (Dense)              (None, 10)                1290      \n",
      "=================================================================\n",
      "Total params: 1,199,882\n",
      "Trainable params: 1,199,882\n",
      "Non-trainable params: 0\n",
      "_________________________________________________________________\n"
     ]
    }
   ],
   "source": [
    "#Step 6. Create model\n",
    "model = Sequential()\n",
    "model.add(Conv2D(32, kernel_size=(3,3), activation=\"relu\", input_shape=input_shape))\n",
    "model.add(Conv2D(64, kernel_size=(3,3), activation=\"relu\"))\n",
    "model.add(MaxPool2D(pool_size=(2, 2)))\n",
    "model.add(Dropout(0.25))\n",
    "model.add(Flatten())\n",
    "model.add(Dense(128, activation=\"relu\"))\n",
    "model.add(Dropout(0.5))\n",
    "model.add(Dense(10, activation=\"softmax\"))\n",
    "model.summary()"
   ]
  },
  {
   "cell_type": "code",
   "execution_count": 8,
   "metadata": {},
   "outputs": [],
   "source": [
    "#Step 7. Compile\n",
    "model.compile(loss='categorical_crossentropy',optimizer='adadelta',metrics=['accuracy'])"
   ]
  },
  {
   "cell_type": "code",
   "execution_count": 9,
   "metadata": {},
   "outputs": [
    {
     "name": "stdout",
     "output_type": "stream",
     "text": [
      "Train on 60000 samples, validate on 10000 samples\n",
      "Epoch 1/10\n",
      "60000/60000 [==============================] - 71s 1ms/step - loss: 0.2608 - acc: 0.9201 - val_loss: 0.0597 - val_acc: 0.9801\n",
      "Epoch 2/10\n",
      "60000/60000 [==============================] - 71s 1ms/step - loss: 0.0864 - acc: 0.9748 - val_loss: 0.0404 - val_acc: 0.9865\n",
      "Epoch 3/10\n",
      "60000/60000 [==============================] - 72s 1ms/step - loss: 0.0642 - acc: 0.9807 - val_loss: 0.0352 - val_acc: 0.9875\n",
      "Epoch 4/10\n",
      "60000/60000 [==============================] - 73s 1ms/step - loss: 0.0539 - acc: 0.9841 - val_loss: 0.0330 - val_acc: 0.9893\n",
      "Epoch 5/10\n",
      "60000/60000 [==============================] - 73s 1ms/step - loss: 0.0472 - acc: 0.9858 - val_loss: 0.0313 - val_acc: 0.9903\n",
      "Epoch 6/10\n",
      "60000/60000 [==============================] - 72s 1ms/step - loss: 0.0426 - acc: 0.9873 - val_loss: 0.0271 - val_acc: 0.9911\n",
      "Epoch 7/10\n",
      "60000/60000 [==============================] - 72s 1ms/step - loss: 0.0377 - acc: 0.9885 - val_loss: 0.0267 - val_acc: 0.9912\n",
      "Epoch 8/10\n",
      "60000/60000 [==============================] - 72s 1ms/step - loss: 0.0345 - acc: 0.9894 - val_loss: 0.0271 - val_acc: 0.9913\n",
      "Epoch 9/10\n",
      "60000/60000 [==============================] - 72s 1ms/step - loss: 0.0320 - acc: 0.9902 - val_loss: 0.0265 - val_acc: 0.9919\n",
      "Epoch 10/10\n",
      "60000/60000 [==============================] - 72s 1ms/step - loss: 0.0285 - acc: 0.9909 - val_loss: 0.0269 - val_acc: 0.9926\n"
     ]
    }
   ],
   "source": [
    "#Step 8. Training\n",
    "history = model.fit(x_train, y_train, batch_size=128, epochs=10, verbose=1, validation_data=(x_test, y_test))"
   ]
  },
  {
   "cell_type": "code",
   "execution_count": null,
   "metadata": {},
   "outputs": [],
   "source": []
  }
 ],
 "metadata": {
  "kernelspec": {
   "display_name": "Python 3",
   "language": "python",
   "name": "python3"
  },
  "language_info": {
   "codemirror_mode": {
    "name": "ipython",
    "version": 3
   },
   "file_extension": ".py",
   "mimetype": "text/x-python",
   "name": "python",
   "nbconvert_exporter": "python",
   "pygments_lexer": "ipython3",
   "version": "3.6.5"
  }
 },
 "nbformat": 4,
 "nbformat_minor": 2
}
