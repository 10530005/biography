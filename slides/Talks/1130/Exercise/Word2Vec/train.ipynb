{
 "cells": [
  {
   "cell_type": "code",
   "execution_count": null,
   "metadata": {},
   "outputs": [],
   "source": [
    "# -*- coding: utf-8 -*-\n",
    "import warnings\n",
    "warnings.filterwarnings(action = 'ignore', category = UserWarning, module = 'gensim')\n",
    "from gensim.models import word2vec\n",
    "\n",
    "# 主要透過 gensim 訓練成 model 並供使用\n",
    "class Train(object):\n",
    "\n",
    "\tdef __init__(self):\n",
    "\t\tpass\n",
    "\n",
    "\t# 可參考 https://radimrehurek.com/gensim/models/word2vec.html 更多運用\n",
    "\tdef train(self):\n",
    "\t\tprint(\"訓練中...(喝個咖啡吧^0^)\")\n",
    "\t\t# Load file\n",
    "\t\tsentence = word2vec.Text8Corpus(\"segmentation.txt\")\n",
    "\t\t# Setting degree and Produce Model(Train)\n",
    "\t\tmodel = word2vec.Word2Vec(sentence, size = 300, window = 10, min_count = 5, workers = 4, sg = 1)\n",
    "\t\t# Save model \n",
    "\t\tmodel.wv.save_word2vec_format(u\"wiki300.model.bin\", binary = True)\n",
    "\t\tprint(\"model 已儲存完畢\")\n",
    "\n",
    "if __name__ == \"__main__\":\n",
    "\tt = Train()\n",
    "\t# 訓練(shallow semantic space)\n",
    "\tt.train()\n"
   ]
  }
 ],
 "metadata": {
  "kernelspec": {
   "display_name": "Python 3",
   "language": "python",
   "name": "python3"
  },
  "language_info": {
   "codemirror_mode": {
    "name": "ipython",
    "version": 3
   },
   "file_extension": ".py",
   "mimetype": "text/x-python",
   "name": "python",
   "nbconvert_exporter": "python",
   "pygments_lexer": "ipython3",
   "version": "3.5.2"
  }
 },
 "nbformat": 4,
 "nbformat_minor": 2
}
