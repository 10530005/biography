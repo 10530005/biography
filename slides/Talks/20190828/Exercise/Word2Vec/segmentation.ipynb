{
 "cells": [
  {
   "cell_type": "code",
   "execution_count": null,
   "metadata": {},
   "outputs": [],
   "source": [
    "# -*- coding: utf-8 -*-\n",
    "import jieba\n",
    "import logging\n",
    "from hanziconv import HanziConv\n",
    "\n",
    "# 進行斷詞並過濾 stopword\n",
    "class Segmentation(object):\n",
    "\n",
    "\tdef __init__(self):\n",
    "\t\t# 用默認 Formatter 為日誌系統建立一個 StreamHandler ，設置基礎配置並加到 root logger 中\n",
    "\t\tlogging.basicConfig(format = \"%(asctime)s : %(levelname)s : %(message)s\", level = logging.INFO)\n",
    "\t\tself.stopwordset = set()\n",
    "\t\t\n",
    "\t# 讀取 stopword 辭典，並存到 stopwordset\n",
    "\tdef set_stopword(self):\n",
    "\t\twith open(\"stopwords.txt\", \"r\", encoding = \"utf-8\") as stopwords:\n",
    "\t\t\tfor stopword in stopwords:\n",
    "\t\t\t\tself.stopwordset.add(stopword.strip('\\n'))\n",
    "\t\t#print(self.stopwordset)\n",
    "\t\tprint(\"StopWord Set 已儲存!\")\n",
    "\t\n",
    "\t# 簡 to 繁\n",
    "\tdef simplified_to_traditional(self):\n",
    "\t\tlogging.info(\"等待中..(簡 to 繁)\")\n",
    "\t\ttraditional = open(\"traditional.txt\", \"w\", encoding = \"utf-8\")\n",
    "\t\twith open(\"wiki_text.txt\", \"r\", encoding = \"utf-8\") as simplified:\n",
    "\t\t\tfor s in simplified:\n",
    "\t\t\t\ttraditional.write(HanziConv.toTraditional(s))\n",
    "\t\tprint(\"成功簡體轉繁體!\")\n",
    "\t\ttraditional.close()\n",
    "\t\n",
    "\t# 斷詞(Segmentation)並過濾掉停用詞(Stop Word)\n",
    "\tdef segmentation(self):\n",
    "\t\tlogging.info(\"等待中..(jieba 斷詞，並過濾停用詞)\")\n",
    "\t\tsegmentation = open(\"segmentation.txt\", \"w\", encoding = \"utf-8\")\n",
    "\t\twith open(\"traditional.txt\", \"r\", encoding = \"utf-8\") as Corpus:\n",
    "\t\t\tfor sentence in Corpus:\n",
    "\t\t\t\tsentence = sentence.strip(\"\\n\")\n",
    "\t\t\t\tpos = jieba.cut(sentence, cut_all = False)\n",
    "\t\t\t\tfor term in pos:\n",
    "\t\t\t\t\tif term not in self.stopwordset:\n",
    "\t\t\t\t\t\tsegmentation.write(term + \" \")\n",
    "\t\tprint(\"jieba 斷詞完畢，並已完成過濾停用詞!\")\n",
    "\t\tsegmentation.close()\n",
    "\n",
    "if __name__ == \"__main__\":\n",
    "\tsegmentation = Segmentation()\n",
    "\t# 讀取停用詞辭典\n",
    "\tsegmentation.set_stopword()\n",
    "\t# data 進行簡體轉繁體\n",
    "\tsegmentation.simplified_to_traditional()\n",
    "\t# 進行 jieba 斷詞同步過濾停用詞，並產生辭典\n",
    "\tsegmentation.segmentation()"
   ]
  }
 ],
 "metadata": {
  "kernelspec": {
   "display_name": "Python 3",
   "language": "python",
   "name": "python3"
  },
  "language_info": {
   "codemirror_mode": {
    "name": "ipython",
    "version": 3
   },
   "file_extension": ".py",
   "mimetype": "text/x-python",
   "name": "python",
   "nbconvert_exporter": "python",
   "pygments_lexer": "ipython3",
   "version": "3.5.2"
  }
 },
 "nbformat": 4,
 "nbformat_minor": 2
}
